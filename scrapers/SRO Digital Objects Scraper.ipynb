{
 "cells": [
  {
   "cell_type": "code",
   "execution_count": null,
   "metadata": {
    "collapsed": true
   },
   "outputs": [],
   "source": [
    "# Objective\n",
    "\n",
    "To have a machine-readable set of data on the State Records Office's collection of scanned maps and survey plans, with\n",
    "each object having a full set of metadata available, including a rough spatial location to enable end-users to\n",
    "choose objects of local interest to georectify."
   ]
  },
  {
   "cell_type": "code",
   "execution_count": null,
   "metadata": {
    "collapsed": true
   },
   "outputs": [],
   "source": [
    "# For want of an API, let's scrape the digital objects collection from SRO.\n",
    "\n",
    "https://github.com/geogeeks-au/maps-for-lost-towns/issues/8"
   ]
  },
  {
   "cell_type": "code",
   "execution_count": null,
   "metadata": {
    "collapsed": false
   },
   "outputs": [],
   "source": [
    "from bs4 import BeautifulSoup\n",
    "import requests\n",
    "import time\n",
    "from pprintpp import pprint as pp\n",
    "\n",
    "page = 225\n",
    "scraping = True\n",
    "while scraping is True:\n",
    "    # @TODO Determine what a nice wait period is to stop SRO's server from falling over\n",
    "    time.sleep(1)\n",
    "    \n",
    "    r = requests.get(\n",
    "        \"https://archive.sro.wa.gov.au/index.php/digitalobject/browse?page=%s&limit=30&sort=identifier\" % (page)\n",
    "    )\n",
    "    soup = BeautifulSoup(r.text, \"lxml\")\n",
    "    anchors = soup.select(\"div.preview > a\")\n",
    "        \n",
    "    if len(anchors) == 0:\n",
    "        scraping = False\n",
    "    else:\n",
    "        print \"Page #%s, #%s Items\" % (page, len(anchors))\n",
    "\n",
    "        print anchors[0][\"href\"]\n",
    "        r_item = requests.get(\"https://archive.sro.wa.gov.au%s\" % (anchors[0][\"href\"]))\n",
    "        item_soup = BeautifulSoup(r_item.text, \"lxml\")\n",
    "        fields = item_soup.select(\"div#content > section > div.field\")\n",
    "        print len(fields)\n",
    "        for field in fields:\n",
    "            print \"%s: %s\" % (field.find(\"h3\").text.strip(), field.find(\"div\").text.strip())\n",
    "            print\n",
    "        \n",
    "        page += 1\n",
    "    \n",
    "    if page >= 230:\n",
    "        print \"die\"\n",
    "        break"
   ]
  },
  {
   "cell_type": "code",
   "execution_count": null,
   "metadata": {
    "collapsed": true
   },
   "outputs": [],
   "source": [
    "# Loot our local cache of images and extract all of the meaningful information we can about them\n",
    "\n",
    "https://github.com/geogeeks-au/maps-for-lost-towns/issues/10\n",
    "    \n",
    "All done! See https://github.com/geogeeks-au/maps-for-lost-towns/blob/master/scrapers/"
   ]
  },
  {
   "cell_type": "code",
   "execution_count": null,
   "metadata": {
    "collapsed": true
   },
   "outputs": [],
   "source": [
    "# Now let's stitch the two together so we can see if the files we have can be associated with SRO's digital objects collection\n",
    "\n",
    "https://github.com/geogeeks-au/maps-for-lost-towns/issues/11"
   ]
  },
  {
   "cell_type": "code",
   "execution_count": null,
   "metadata": {
    "collapsed": true
   },
   "outputs": [],
   "source": []
  },
  {
   "cell_type": "code",
   "execution_count": null,
   "metadata": {
    "collapsed": true
   },
   "outputs": [],
   "source": [
    "# OK, now finally let's try to assign a spatial location to these\n",
    "\n",
    "https://github.com/geogeeks-au/maps-for-lost-towns/issues/9"
   ]
  },
  {
   "cell_type": "code",
   "execution_count": null,
   "metadata": {
    "collapsed": true
   },
   "outputs": [],
   "source": []
  }
 ],
 "metadata": {
  "kernelspec": {
   "display_name": "Python 2",
   "language": "python",
   "name": "python2"
  },
  "language_info": {
   "codemirror_mode": {
    "name": "ipython",
    "version": 2
   },
   "file_extension": ".py",
   "mimetype": "text/x-python",
   "name": "python",
   "nbconvert_exporter": "python",
   "pygments_lexer": "ipython2",
   "version": "2.7.10"
  }
 },
 "nbformat": 4,
 "nbformat_minor": 0
}
